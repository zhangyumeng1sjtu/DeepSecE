{
 "cells": [
  {
   "cell_type": "code",
   "execution_count": 1,
   "metadata": {},
   "outputs": [
    {
     "data": {
      "text/plain": [
       "array([[133,   0,  10,   4,   2,   1],\n",
       "       [  0,  19,   0,   0,   0,   1],\n",
       "       [  0,   0,   9,   0,   1,   0],\n",
       "       [  1,   0,   0,  28,   1,   0],\n",
       "       [  0,   0,   0,   1,  29,   0],\n",
       "       [  1,   0,   0,   2,   0,  17]])"
      ]
     },
     "execution_count": 1,
     "metadata": {},
     "output_type": "execute_result"
    }
   ],
   "source": [
    "import numpy as np\n",
    "from sklearn.metrics import confusion_matrix\n",
    "\n",
    "y = np.load(f'DeepSecE/y_test_2.npy')\n",
    "pred = np.load(f'DeepSecE/pred_test_2.npy')\n",
    "prob = np.load(f'DeepSecE/prob_test_2.npy')\n",
    "cm = confusion_matrix(y, pred)\n",
    "cm"
   ]
  },
  {
   "cell_type": "code",
   "execution_count": 2,
   "metadata": {},
   "outputs": [
    {
     "data": {
      "text/plain": [
       "array([ 2,  0,  1,  1, 29,  0])"
      ]
     },
     "execution_count": 2,
     "metadata": {},
     "output_type": "execute_result"
    }
   ],
   "source": [
    "cm[:, 4]"
   ]
  },
  {
   "cell_type": "code",
   "execution_count": 3,
   "metadata": {},
   "outputs": [],
   "source": [
    "import pandas as pd\n",
    "\n",
    "cnn_t4se = pd.read_csv('data/CNNT4SE-Test-260.out.csv')\n",
    "cnn_t4se['Protein_ID'] = cnn_t4se['Protein_ID'].apply(lambda x: int(x.split('_')[-1]))\n",
    "cnn_t4se_pred = cnn_t4se[cnn_t4se['Is_effetor'] == 'YES']\n"
   ]
  },
  {
   "cell_type": "code",
   "execution_count": 4,
   "metadata": {},
   "outputs": [
    {
     "data": {
      "text/plain": [
       "[1, 10, 0, 4, 29, 1]"
      ]
     },
     "execution_count": 4,
     "metadata": {},
     "output_type": "execute_result"
    }
   ],
   "source": [
    "def get_num_of_effector(pred, start, end):\n",
    "    return len(pred[(pred['Protein_ID'] > start) & (pred['Protein_ID'] <= end)])\n",
    "\n",
    "cnn_t4se_cm = [get_num_of_effector(cnn_t4se_pred, start, end) for (start, end) in [(0, 150), (150, 170), (170, 180), (180, 210), (210, 240), (240, 260)]]\n",
    "cnn_t4se_cm\n"
   ]
  },
  {
   "cell_type": "code",
   "execution_count": 5,
   "metadata": {},
   "outputs": [
    {
     "data": {
      "text/html": [
       "<div>\n",
       "<style scoped>\n",
       "    .dataframe tbody tr th:only-of-type {\n",
       "        vertical-align: middle;\n",
       "    }\n",
       "\n",
       "    .dataframe tbody tr th {\n",
       "        vertical-align: top;\n",
       "    }\n",
       "\n",
       "    .dataframe thead th {\n",
       "        text-align: right;\n",
       "    }\n",
       "</style>\n",
       "<table border=\"1\" class=\"dataframe\">\n",
       "  <thead>\n",
       "    <tr style=\"text-align: right;\">\n",
       "      <th></th>\n",
       "      <th>DeepSecE</th>\n",
       "      <th>CNN-T4SE</th>\n",
       "    </tr>\n",
       "  </thead>\n",
       "  <tbody>\n",
       "    <tr>\n",
       "      <th>Non-effector</th>\n",
       "      <td>2</td>\n",
       "      <td>1</td>\n",
       "    </tr>\n",
       "    <tr>\n",
       "      <th>T1SE</th>\n",
       "      <td>0</td>\n",
       "      <td>10</td>\n",
       "    </tr>\n",
       "    <tr>\n",
       "      <th>T2SE</th>\n",
       "      <td>1</td>\n",
       "      <td>0</td>\n",
       "    </tr>\n",
       "    <tr>\n",
       "      <th>T3SE</th>\n",
       "      <td>1</td>\n",
       "      <td>4</td>\n",
       "    </tr>\n",
       "    <tr>\n",
       "      <th>T4SE</th>\n",
       "      <td>29</td>\n",
       "      <td>29</td>\n",
       "    </tr>\n",
       "    <tr>\n",
       "      <th>T6SE</th>\n",
       "      <td>0</td>\n",
       "      <td>1</td>\n",
       "    </tr>\n",
       "  </tbody>\n",
       "</table>\n",
       "</div>"
      ],
      "text/plain": [
       "              DeepSecE  CNN-T4SE\n",
       "Non-effector         2         1\n",
       "T1SE                 0        10\n",
       "T2SE                 1         0\n",
       "T3SE                 1         4\n",
       "T4SE                29        29\n",
       "T6SE                 0         1"
      ]
     },
     "execution_count": 5,
     "metadata": {},
     "output_type": "execute_result"
    }
   ],
   "source": [
    "t4se_cm_df = pd.DataFrame({'DeepSecE': cm[:, 4], 'CNN-T4SE': cnn_t4se_cm}, index=['Non-effector', 'T1SE', 'T2SE', 'T3SE', 'T4SE', 'T6SE'])\n",
    "t4se_cm_df\n"
   ]
  },
  {
   "cell_type": "code",
   "execution_count": 6,
   "metadata": {},
   "outputs": [
    {
     "data": {
      "text/html": [
       "<div>\n",
       "<style scoped>\n",
       "    .dataframe tbody tr th:only-of-type {\n",
       "        vertical-align: middle;\n",
       "    }\n",
       "\n",
       "    .dataframe tbody tr th {\n",
       "        vertical-align: top;\n",
       "    }\n",
       "\n",
       "    .dataframe thead th {\n",
       "        text-align: right;\n",
       "    }\n",
       "</style>\n",
       "<table border=\"1\" class=\"dataframe\">\n",
       "  <thead>\n",
       "    <tr style=\"text-align: right;\">\n",
       "      <th></th>\n",
       "      <th>DeepSecE</th>\n",
       "      <th>T3SEpp</th>\n",
       "    </tr>\n",
       "  </thead>\n",
       "  <tbody>\n",
       "    <tr>\n",
       "      <th>Non-effector</th>\n",
       "      <td>4</td>\n",
       "      <td>5</td>\n",
       "    </tr>\n",
       "    <tr>\n",
       "      <th>T1SE</th>\n",
       "      <td>0</td>\n",
       "      <td>9</td>\n",
       "    </tr>\n",
       "    <tr>\n",
       "      <th>T2SE</th>\n",
       "      <td>0</td>\n",
       "      <td>0</td>\n",
       "    </tr>\n",
       "    <tr>\n",
       "      <th>T3SE</th>\n",
       "      <td>28</td>\n",
       "      <td>26</td>\n",
       "    </tr>\n",
       "    <tr>\n",
       "      <th>T4SE</th>\n",
       "      <td>1</td>\n",
       "      <td>12</td>\n",
       "    </tr>\n",
       "    <tr>\n",
       "      <th>T6SE</th>\n",
       "      <td>2</td>\n",
       "      <td>8</td>\n",
       "    </tr>\n",
       "  </tbody>\n",
       "</table>\n",
       "</div>"
      ],
      "text/plain": [
       "              DeepSecE  T3SEpp\n",
       "Non-effector         4       5\n",
       "T1SE                 0       9\n",
       "T2SE                 0       0\n",
       "T3SE                28      26\n",
       "T4SE                 1      12\n",
       "T6SE                 2       8"
      ]
     },
     "execution_count": 6,
     "metadata": {},
     "output_type": "execute_result"
    }
   ],
   "source": [
    "t3sepp = pd.read_table('data/T3SEpp-Test-260.out.txt')\n",
    "t3sepp = t3sepp[t3sepp['Pred'] == 'T3S']\n",
    "t3sepp_cm = [t3sepp['prot'].str.startswith('Non').sum(),\n",
    "             t3sepp['prot'].str.startswith('T1SE').sum(),\n",
    "             t3sepp['prot'].str.startswith('T2SE').sum(),\n",
    "             t3sepp['prot'].str.startswith('T3SE').sum(),\n",
    "             t3sepp['prot'].str.startswith('T4SE').sum(),\n",
    "             t3sepp['prot'].str.startswith('T6SE').sum(),]\n",
    "\n",
    "t3se_cm_df = pd.DataFrame({'DeepSecE': cm[:, 3], 'T3SEpp': t3sepp_cm}, index=['Non-effector', 'T1SE', 'T2SE', 'T3SE', 'T4SE', 'T6SE'])\n",
    "t3se_cm_df"
   ]
  },
  {
   "cell_type": "code",
   "execution_count": 7,
   "metadata": {},
   "outputs": [
    {
     "data": {
      "text/html": [
       "<div>\n",
       "<style scoped>\n",
       "    .dataframe tbody tr th:only-of-type {\n",
       "        vertical-align: middle;\n",
       "    }\n",
       "\n",
       "    .dataframe tbody tr th {\n",
       "        vertical-align: top;\n",
       "    }\n",
       "\n",
       "    .dataframe thead th {\n",
       "        text-align: right;\n",
       "    }\n",
       "</style>\n",
       "<table border=\"1\" class=\"dataframe\">\n",
       "  <thead>\n",
       "    <tr style=\"text-align: right;\">\n",
       "      <th></th>\n",
       "      <th>DeepSecE</th>\n",
       "      <th>T1SEstacker</th>\n",
       "    </tr>\n",
       "  </thead>\n",
       "  <tbody>\n",
       "    <tr>\n",
       "      <th>Non-effector</th>\n",
       "      <td>0</td>\n",
       "      <td>8</td>\n",
       "    </tr>\n",
       "    <tr>\n",
       "      <th>T1SE</th>\n",
       "      <td>19</td>\n",
       "      <td>16</td>\n",
       "    </tr>\n",
       "    <tr>\n",
       "      <th>T2SE</th>\n",
       "      <td>0</td>\n",
       "      <td>2</td>\n",
       "    </tr>\n",
       "    <tr>\n",
       "      <th>T3SE</th>\n",
       "      <td>0</td>\n",
       "      <td>5</td>\n",
       "    </tr>\n",
       "    <tr>\n",
       "      <th>T4SE</th>\n",
       "      <td>0</td>\n",
       "      <td>2</td>\n",
       "    </tr>\n",
       "    <tr>\n",
       "      <th>T6SE</th>\n",
       "      <td>0</td>\n",
       "      <td>4</td>\n",
       "    </tr>\n",
       "  </tbody>\n",
       "</table>\n",
       "</div>"
      ],
      "text/plain": [
       "              DeepSecE  T1SEstacker\n",
       "Non-effector         0            8\n",
       "T1SE                19           16\n",
       "T2SE                 0            2\n",
       "T3SE                 0            5\n",
       "T4SE                 0            2\n",
       "T6SE                 0            4"
      ]
     },
     "execution_count": 7,
     "metadata": {},
     "output_type": "execute_result"
    }
   ],
   "source": [
    "t1sestacker = pd.read_table('data/T1SEstacker-Test-260.out.txt')\n",
    "t1sestacker = t1sestacker[t1sestacker['pred'] == 'T1SE']\n",
    "t1sestacker_cm = [t1sestacker['prot'].str.startswith('Non').sum(),\n",
    "             t1sestacker['prot'].str.startswith('T1SE').sum(),\n",
    "             t1sestacker['prot'].str.startswith('T2SE').sum(),\n",
    "             t1sestacker['prot'].str.startswith('T3SE').sum(),\n",
    "             t1sestacker['prot'].str.startswith('T4SE').sum(),\n",
    "             t1sestacker['prot'].str.startswith('T6SE').sum(), ]\n",
    "\n",
    "t1se_cm_df = pd.DataFrame({'DeepSecE': cm[:, 1], 'T1SEstacker': t1sestacker_cm}, index=[\n",
    "                          'Non-effector', 'T1SE', 'T2SE', 'T3SE', 'T4SE', 'T6SE'])\n",
    "t1se_cm_df\n"
   ]
  },
  {
   "cell_type": "code",
   "execution_count": 8,
   "metadata": {},
   "outputs": [
    {
     "data": {
      "text/html": [
       "<div>\n",
       "<style scoped>\n",
       "    .dataframe tbody tr th:only-of-type {\n",
       "        vertical-align: middle;\n",
       "    }\n",
       "\n",
       "    .dataframe tbody tr th {\n",
       "        vertical-align: top;\n",
       "    }\n",
       "\n",
       "    .dataframe thead th {\n",
       "        text-align: right;\n",
       "    }\n",
       "</style>\n",
       "<table border=\"1\" class=\"dataframe\">\n",
       "  <thead>\n",
       "    <tr style=\"text-align: right;\">\n",
       "      <th></th>\n",
       "      <th>DeepSecE</th>\n",
       "      <th>Bastion6</th>\n",
       "    </tr>\n",
       "  </thead>\n",
       "  <tbody>\n",
       "    <tr>\n",
       "      <th>Non-effector</th>\n",
       "      <td>1</td>\n",
       "      <td>20</td>\n",
       "    </tr>\n",
       "    <tr>\n",
       "      <th>T1SE</th>\n",
       "      <td>1</td>\n",
       "      <td>17</td>\n",
       "    </tr>\n",
       "    <tr>\n",
       "      <th>T2SE</th>\n",
       "      <td>0</td>\n",
       "      <td>0</td>\n",
       "    </tr>\n",
       "    <tr>\n",
       "      <th>T3SE</th>\n",
       "      <td>0</td>\n",
       "      <td>24</td>\n",
       "    </tr>\n",
       "    <tr>\n",
       "      <th>T4SE</th>\n",
       "      <td>0</td>\n",
       "      <td>3</td>\n",
       "    </tr>\n",
       "    <tr>\n",
       "      <th>T6SE</th>\n",
       "      <td>17</td>\n",
       "      <td>20</td>\n",
       "    </tr>\n",
       "  </tbody>\n",
       "</table>\n",
       "</div>"
      ],
      "text/plain": [
       "              DeepSecE  Bastion6\n",
       "Non-effector         1        20\n",
       "T1SE                 1        17\n",
       "T2SE                 0         0\n",
       "T3SE                 0        24\n",
       "T4SE                 0         3\n",
       "T6SE                17        20"
      ]
     },
     "execution_count": 8,
     "metadata": {},
     "output_type": "execute_result"
    }
   ],
   "source": [
    "bastion6 = pd.read_csv('data/Bastion6-Test-260.out.csv')\n",
    "bastion6 = bastion6[bastion6['T6SE']=='Yes']\n",
    "bastion6_cm = [bastion6['Name'].str.startswith('>Non').sum(),\n",
    "             bastion6['Name'].str.startswith('>T1SE').sum(),\n",
    "             bastion6['Name'].str.startswith('>T2SE').sum(),\n",
    "             bastion6['Name'].str.startswith('>T3SE').sum(),\n",
    "             bastion6['Name'].str.startswith('>T4SE').sum(),\n",
    "             bastion6['Name'].str.startswith('>T6SE').sum(),]\n",
    "t6se_cm_df = pd.DataFrame({'DeepSecE': cm[:, 5], 'Bastion6': bastion6_cm}, index=['Non-effector', 'T1SE', 'T2SE', 'T3SE', 'T4SE', 'T6SE'])\n",
    "t6se_cm_df"
   ]
  },
  {
   "cell_type": "code",
   "execution_count": 9,
   "metadata": {},
   "outputs": [],
   "source": [
    "import seaborn as sns\n",
    "import matplotlib.pyplot as plt\n",
    "\n",
    "import matplotlib as mpl\n",
    "mpl.rcParams['font.family'] = 'Arial'\n",
    "mpl.rcParams['axes.labelsize'] = 12\n",
    "mpl.rcParams['axes.titlesize'] = 14\n",
    "mpl.rcParams['legend.title_fontsize'] = 11\n",
    "mpl.rcParams['legend.fontsize'] = 11\n",
    "mpl.rcParams['xtick.labelsize'] = 11\n",
    "mpl.rcParams['ytick.labelsize'] = 11"
   ]
  },
  {
   "cell_type": "code",
   "execution_count": 14,
   "metadata": {},
   "outputs": [
    {
     "name": "stderr",
     "output_type": "stream",
     "text": [
      "/var/folders/t8/fc7r24ds2bb9ddlc1v9786q40000gn/T/ipykernel_34516/1763529420.py:19: UserWarning: This figure includes Axes that are not compatible with tight_layout, so results might be incorrect.\n",
      "  plt.tight_layout(rect=[0, 0, .9, 1])\n"
     ]
    },
    {
     "data": {
      "image/png": "[encoded data removed]",
      "text/plain": [
       "<Figure size 900x500 with 4 Axes>"
      ]
     },
     "metadata": {},
     "output_type": "display_data"
    }
   ],
   "source": [
    "fig, axn = plt.subplots(1, 3, figsize=(9, 5))\n",
    "\n",
    "cbar_ax = fig.add_axes([.91, .3, .03, .4])\n",
    "    \n",
    "for i, (ax, df, label) in enumerate(zip(axn.flat, [t3se_cm_df, t4se_cm_df, t6se_cm_df], ['T3SE', 'T4SE', 'T6SE'])):\n",
    "    sns.heatmap(df, ax=ax,\n",
    "                cbar=i == 0, cmap='Blues',\n",
    "                vmin=0, vmax=30, linewidth=1, annot=True, fmt=\".0f\",\n",
    "                annot_kws={\"fontsize\": 12}, \n",
    "                cbar_ax=None if i else cbar_ax)\n",
    "    \n",
    "    ax.set_ylabel('Actual')\n",
    "    ax.set_title(f'Predicted {label}')\n",
    "    for text in ax.texts:\n",
    "        text_value = int(text.get_text())\n",
    "        if text_value == 0:\n",
    "            text.set_text(\"\")\n",
    "\n",
    "plt.tight_layout(rect=[0, 0, .9, 1])\n",
    "plt.subplots_adjust(wspace=1.0)\n",
    "plt.savefig('pdf/compare_specificity.pdf')\n",
    "plt.show()\n"
   ]
  },
  {
   "cell_type": "code",
   "execution_count": 39,
   "metadata": {},
   "outputs": [
    {
     "name": "stderr",
     "output_type": "stream",
     "text": [
      "/var/folders/t8/fc7r24ds2bb9ddlc1v9786q40000gn/T/ipykernel_34516/124703160.py:16: UserWarning: This figure includes Axes that are not compatible with tight_layout, so results might be incorrect.\n",
      "  plt.tight_layout(rect=[0, 0, .78, 1])\n"
     ]
    },
    {
     "data": {
      "image/png": "[encoded data removed]",
      "text/plain": [
       "<Figure size 300x500 with 2 Axes>"
      ]
     },
     "metadata": {},
     "output_type": "display_data"
    }
   ],
   "source": [
    "fig, ax = plt.subplots(1, 1, figsize=(3, 5))\n",
    "\n",
    "cbar_ax = fig.add_axes([.79, .3, .1, .4])\n",
    "\n",
    "sns.heatmap(t1se_cm_df, ax=ax, cmap='Blues',\n",
    "                vmin=0, vmax=30, linewidth=1, annot=True, fmt=\".0f\",\n",
    "            annot_kws={\"fontsize\": 12}, cbar_ax=cbar_ax)\n",
    "\n",
    "ax.set_ylabel('Actual')\n",
    "ax.set_title('Predicted T1SE')\n",
    "for text in ax.texts:\n",
    "    text_value = int(text.get_text())\n",
    "    if text_value == 0:\n",
    "        text.set_text(\"\")\n",
    "            \n",
    "plt.tight_layout(rect=[0, 0, .78, 1])\n",
    "plt.savefig('pdf/compare_specificity_t1se.pdf')\n",
    "plt.show()"
   ]
  }
 ],
 "metadata": {
  "kernelspec": {
   "display_name": "base",
   "language": "python",
   "name": "python3"
  },
  "language_info": {
   "codemirror_mode": {
    "name": "ipython",
    "version": 3
   },
   "file_extension": ".py",
   "mimetype": "text/x-python",
   "name": "python",
   "nbconvert_exporter": "python",
   "pygments_lexer": "ipython3",
   "version": "3.9.7"
  },
  "orig_nbformat": 4
 },
 "nbformat": 4,
 "nbformat_minor": 2
}
