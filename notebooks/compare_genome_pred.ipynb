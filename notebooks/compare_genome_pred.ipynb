{
 "cells": [
  {
   "cell_type": "code",
   "execution_count": 20,
   "metadata": {},
   "outputs": [],
   "source": [
    "import pandas as pd"
   ]
  },
  {
   "cell_type": "code",
   "execution_count": 39,
   "metadata": {},
   "outputs": [],
   "source": [
    "DC3000 = pd.read_csv('data/NC_004578.1/features_.csv')\n"
   ]
  },
  {
   "cell_type": "code",
   "execution_count": 40,
   "metadata": {},
   "outputs": [],
   "source": [
    "Effectidor_pred = pd.read_excel('data/test-Effectidor/DC3000/concensus_predictions_with_annotation_DC3000.xlsx')\n",
    "Effectidor_T3SE = Effectidor_pred[(Effectidor_pred.iloc[:,1]>0.1) & (Effectidor_pred.iloc[:,2] != 'no')]['locus']"
   ]
  },
  {
   "cell_type": "code",
   "execution_count": 41,
   "metadata": {},
   "outputs": [],
   "source": [
    "Exp_T3SE = DC3000[DC3000['Exp.'] == 1]['locus_tag']\n",
    "DeepSecE_T3SE = DC3000[DC3000['DeepSecE'] == 1]['locus_tag']\n"
   ]
  },
  {
   "cell_type": "code",
   "execution_count": 42,
   "metadata": {},
   "outputs": [
    {
     "data": {
      "text/plain": [
       "0.8484848484848485"
      ]
     },
     "execution_count": 42,
     "metadata": {},
     "output_type": "execute_result"
    }
   ],
   "source": [
    "Effectidor_interaction = set(Exp_T3SE).intersection(set(Effectidor_T3SE))\n",
    "Effectidor_recall = len(Effectidor_interaction) / len(Exp_T3SE)\n",
    "Effectidor_recall"
   ]
  },
  {
   "cell_type": "code",
   "execution_count": 44,
   "metadata": {},
   "outputs": [
    {
     "data": {
      "text/plain": [
       "(305, 28)"
      ]
     },
     "execution_count": 44,
     "metadata": {},
     "output_type": "execute_result"
    }
   ],
   "source": [
    "len(set(Effectidor_T3SE).intersection(set(DC3000['locus_tag']))), len(Effectidor_interaction)\n"
   ]
  },
  {
   "cell_type": "code",
   "execution_count": 25,
   "metadata": {},
   "outputs": [
    {
     "data": {
      "text/plain": [
       "0.9393939393939394"
      ]
     },
     "execution_count": 25,
     "metadata": {},
     "output_type": "execute_result"
    }
   ],
   "source": [
    "DeepSecE_interaction = set(Exp_T3SE).intersection(set(DeepSecE_T3SE))\n",
    "DeepSecE_recall = len(DeepSecE_interaction) / len(Exp_T3SE)\n",
    "DeepSecE_recall"
   ]
  },
  {
   "cell_type": "code",
   "execution_count": 26,
   "metadata": {},
   "outputs": [],
   "source": [
    "DC3000['Effectidor'] = 0\n",
    "DC3000.loc[DC3000['locus_tag'].isin(Effectidor_T3SE), 'Effectidor'] = 1\n",
    "DC3000.to_csv('data/NC_004578.1/features_.csv')\n"
   ]
  },
  {
   "cell_type": "code",
   "execution_count": 45,
   "metadata": {},
   "outputs": [],
   "source": [
    "LT2 = pd.read_csv('data/NC_003197.2/features_.csv')\n",
    "Effectidor_pred = pd.read_excel('data/test-Effectidor/LT2/concensus_predictions_with_annotation_LT2.xlsx')\n",
    "Effectidor_T3SE = Effectidor_pred[(Effectidor_pred.iloc[:,1]>0.1) & (Effectidor_pred.iloc[:,2] != 'no')]['locus']\n",
    "Exp_T3SE = LT2[LT2['Exp.'] == 1]['locus_tag']\n",
    "DeepSecE_T3SE = LT2[LT2['DeepSecE'] == 1]['locus_tag']"
   ]
  },
  {
   "cell_type": "code",
   "execution_count": 46,
   "metadata": {},
   "outputs": [
    {
     "data": {
      "text/plain": [
       "0.7368421052631579"
      ]
     },
     "execution_count": 46,
     "metadata": {},
     "output_type": "execute_result"
    }
   ],
   "source": [
    "Effectidor_interaction = set(Exp_T3SE).intersection(set(Effectidor_T3SE))\n",
    "Effectidor_recall = len(Effectidor_interaction) / len(Exp_T3SE)\n",
    "    \n",
    "Effectidor_recall\n"
   ]
  },
  {
   "cell_type": "code",
   "execution_count": 48,
   "metadata": {},
   "outputs": [
    {
     "data": {
      "text/plain": [
       "(48, 28)"
      ]
     },
     "execution_count": 48,
     "metadata": {},
     "output_type": "execute_result"
    }
   ],
   "source": [
    "len(set(Effectidor_T3SE).intersection(set(LT2['locus_tag']))), len(Effectidor_interaction)\n"
   ]
  },
  {
   "cell_type": "code",
   "execution_count": 36,
   "metadata": {},
   "outputs": [
    {
     "data": {
      "text/plain": [
       "0.8947368421052632"
      ]
     },
     "execution_count": 36,
     "metadata": {},
     "output_type": "execute_result"
    }
   ],
   "source": [
    "DeepSecE_interaction = set(Exp_T3SE).intersection(set(DeepSecE_T3SE))\n",
    "DeepSecE_recall = len(DeepSecE_interaction) / len(Exp_T3SE)\n",
    "DeepSecE_recall\n"
   ]
  },
  {
   "cell_type": "code",
   "execution_count": 37,
   "metadata": {},
   "outputs": [],
   "source": [
    "LT2['Effectidor'] = 0\n",
    "LT2.loc[LT2['locus_tag'].isin(Effectidor_T3SE), 'Effectidor'] = 1\n",
    "LT2.to_csv('data/NC_003197.2/features_.csv')\n"
   ]
  }
 ],
 "metadata": {
  "kernelspec": {
   "display_name": "DeepSecE",
   "language": "python",
   "name": "python3"
  },
  "language_info": {
   "codemirror_mode": {
    "name": "ipython",
    "version": 3
   },
   "file_extension": ".py",
   "mimetype": "text/x-python",
   "name": "python",
   "nbconvert_exporter": "python",
   "pygments_lexer": "ipython3",
   "version": "3.9.7"
  },
  "orig_nbformat": 4
 },
 "nbformat": 4,
 "nbformat_minor": 2
}
